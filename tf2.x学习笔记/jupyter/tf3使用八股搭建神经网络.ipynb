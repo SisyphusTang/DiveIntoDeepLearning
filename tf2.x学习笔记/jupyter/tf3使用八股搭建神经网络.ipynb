{
 "cells": [
  {
   "attachments": {},
   "cell_type": "markdown",
   "metadata": {},
   "source": [
    "target：使用八股搭建神经网络\n",
    "+ 神经网络搭建八股\n",
    "+ iris代码复现\n",
    "+ MNIST数据集\n",
    "+ 训练MNIST数据集\n",
    "+ Fashion数据集"
   ]
  },
  {
   "attachments": {},
   "cell_type": "markdown",
   "metadata": {},
   "source": [
    "使用Tensorflow API: tf.keras搭建网络八股\n",
    "六步法\n",
    "import  导包\n",
    "train ， test  训练，测试数据集\n",
    "model = tf.keras.models.Sequential 向前传播\n",
    "model.compile 配置训练方法 优化器、损失函数 指标\n",
    "model.fit batch、迭代数据集\n",
    "model.summary 网络结构 参数统计\n",
    "\n",
    "\n",
    "model = tf.keras.models.Sequential(net)\n",
    "拉直层: `tf.keras.layers.Flatten()`\n",
    "全连接层: `tf.keras.layers.Dense(神经元个数，activation=激活函数，kernel_regularizer=哪种正则化)`\n",
    "+ activation: `relu、softmax、sigmoid、tanh`\n",
    "+ kernel_regularizer: `tf.keras.regularizers.l1(), tf.keras.regularziers.l2()`\n",
    "\n",
    "卷积层:`tf.keras.layers.Conv2D(filters = 卷积核个数，kernel_size = 卷积核尺寸， strides = 卷积步长, padding = 'valid' or 'same')`\n",
    "LSTM层: `tf.keras.layers.LSTM()`\n",
    "\n",
    "`model.compile(optimizer=优化器，loss=损失函数，metrics=['准确率'])`\n",
    "Optimizer可选\n",
    "+ 'sgd' or `tf.keras.optimizers.SGD(lr=学习率,momentum=动量参数)`\n",
    "+ 'adagrad' or `tf.keras.optimizers.Adagrad(lr=学习率)`\n",
    "+ "
   ]
  }
 ],
 "metadata": {
  "kernelspec": {
   "display_name": "tf2",
   "language": "python",
   "name": "python3"
  },
  "language_info": {
   "name": "python",
   "version": "3.8.0"
  },
  "orig_nbformat": 4
 },
 "nbformat": 4,
 "nbformat_minor": 2
}
