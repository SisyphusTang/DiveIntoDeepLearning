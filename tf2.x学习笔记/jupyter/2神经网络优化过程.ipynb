{
 "cells": [
  {
   "attachments": {},
   "cell_type": "markdown",
   "metadata": {},
   "source": [
    "# \n",
    "target：学会神经网络优化过程，使用正则化减少过拟合，使用优化器更新网络参数\n",
    "+ 神经网络复杂度\n",
    "+ 指数衰减学习率\n",
    "+ 激活函数\n",
    "+ 损失函数\n",
    "+ 欠拟合和过拟合\n",
    "+ 正则化减少过拟合\n",
    "+ 优化器更新网络参数"
   ]
  },
  {
   "attachments": {},
   "cell_type": "markdown",
   "metadata": {},
   "source": [
    "## 基础知识\n",
    "### tf.where()\n",
    "条件语句为真返回A，为假返回B\n",
    "`tf.where(条件语句， 真返回A， 假返回B)`\n"
   ]
  },
  {
   "cell_type": "code",
   "execution_count": 1,
   "metadata": {},
   "outputs": [],
   "source": [
    "import tensorflow as tf"
   ]
  },
  {
   "cell_type": "code",
   "execution_count": 3,
   "metadata": {},
   "outputs": [
    {
     "name": "stdout",
     "output_type": "stream",
     "text": [
      "tf.Tensor([1 2 3 4 5], shape=(5,), dtype=int32)\n"
     ]
    }
   ],
   "source": [
    "a = tf.constant([1,2,3,1,1])\n",
    "b = tf.constant([0,1,2,4,5])\n",
    "# tf.greater(a, b)a和b当中的元素逐个比较\n",
    "c = tf.where(tf.greater(a,b), a, b)\n",
    "print(c)"
   ]
  },
  {
   "attachments": {},
   "cell_type": "markdown",
   "metadata": {},
   "source": [
    "### np.random.RandomState.rand()\n",
    "返回一个[0, 1) 之间的随机数\n",
    "`np.random.RandomState.rand(维度)`\n"
   ]
  },
  {
   "cell_type": "code",
   "execution_count": 4,
   "metadata": {},
   "outputs": [
    {
     "name": "stdout",
     "output_type": "stream",
     "text": [
      "a:0.417022004702574\n",
      "\n",
      "b:[[7.20324493e-01 1.14374817e-04 3.02332573e-01]\n",
      " [1.46755891e-01 9.23385948e-02 1.86260211e-01]]\n"
     ]
    }
   ],
   "source": [
    "import numpy as np\n",
    "# 加了seed=x之后每次生成的随机数相同\n",
    "rdm = np.random.RandomState(seed=1)\n",
    "a = rdm.rand() #返回随机标量\n",
    "b = rdm.rand(2,3) #随机矩阵\n",
    "print(f'a:{a}\\n')\n",
    "print(f'b:{b}')"
   ]
  },
  {
   "attachments": {},
   "cell_type": "markdown",
   "metadata": {},
   "source": [
    "### np.vstack()\n",
    "将两个数组按垂直方向叠加\n",
    "`np.vstack(数组1，数组2)`"
   ]
  },
  {
   "cell_type": "code",
   "execution_count": 6,
   "metadata": {},
   "outputs": [
    {
     "name": "stdout",
     "output_type": "stream",
     "text": [
      "c is [[1 2 3]\n",
      " [4 5 6]]\n"
     ]
    }
   ],
   "source": [
    "a = np.array([1,2,3])\n",
    "b = np.array([4,5,6])\n",
    "c = np.vstack((a,b))\n",
    "print(f'c is {c}')"
   ]
  },
  {
   "attachments": {},
   "cell_type": "markdown",
   "metadata": {},
   "source": [
    "### np.mgrid[]、.ravle()、np.c_[]\n",
    "`np.mgrid[维度1起始值:维度1结束值:步长，维度2起始值:维度2结束值:步长...]`\n",
    "**对于一个二维的，拉出来的两个矩阵形状一致，第一个矩阵一列一列展开，第二个矩阵一行一行展开**"
   ]
  },
  {
   "cell_type": "code",
   "execution_count": 15,
   "metadata": {},
   "outputs": [
    {
     "name": "stdout",
     "output_type": "stream",
     "text": [
      "x is \n",
      "[[1. 1. 1. 1.]\n",
      " [2. 2. 2. 2.]]\n",
      "\n",
      "y is \n",
      "[[2.  2.5 3.  3.5]\n",
      " [2.  2.5 3.  3.5]]\n",
      "\n",
      "x.ravel() is \n",
      " [1. 1. 1. 1. 2. 2. 2. 2.]\n",
      "y.ravel() is \n",
      " [2.  2.5 3.  3.5 2.  2.5 3.  3.5]\n",
      "np.c_[x.ravel(),y.ravel] is\n",
      " [[1.  2. ]\n",
      " [1.  2.5]\n",
      " [1.  3. ]\n",
      " [1.  3.5]\n",
      " [2.  2. ]\n",
      " [2.  2.5]\n",
      " [2.  3. ]\n",
      " [2.  3.5]]\n"
     ]
    }
   ],
   "source": [
    "a = np.mgrid[1:6:1,1:6:2]\n",
    "x,y = np.mgrid[1:3:1, 2:4:0.5]\n",
    "print(f'x is \\n{x}\\n')\n",
    "print(f'y is \\n{y}\\n')\n",
    "print(f'x.ravel() is \\n {x.ravel()}')\n",
    "print(f'y.ravel() is \\n {y.ravel()}')\n",
    "print(f'np.c_[x.ravel(),y.ravel] is\\n {np.c_[x.ravel(),y.ravel()]}')"
   ]
  },
  {
   "attachments": {},
   "cell_type": "markdown",
   "metadata": {},
   "source": [
    "![NN复杂度](https://cdn.staticaly.com/gh/SisyphusTang/Picture-bed@master/20230826/NN复杂度.4p7scu3y93c0.webp)"
   ]
  },
  {
   "attachments": {},
   "cell_type": "markdown",
   "metadata": {},
   "source": [
    "![指数衰减学习率](https://cdn.staticaly.com/gh/SisyphusTang/Picture-bed@master/20230826/指数衰减学习率.3qh72hlvep40.webp)"
   ]
  },
  {
   "attachments": {},
   "cell_type": "markdown",
   "metadata": {},
   "source": [
    "![参数优化器](https://cdn.staticaly.com/gh/SisyphusTang/Picture-bed@master/20230826/参数优化器.53m04ubwz040.webp)"
   ]
  },
  {
   "attachments": {},
   "cell_type": "markdown",
   "metadata": {},
   "source": [
    "![SGD](https://cdn.staticaly.com/gh/SisyphusTang/Picture-bed@master/20230826/SGD.b6mw8gf0qz4.webp)"
   ]
  },
  {
   "attachments": {},
   "cell_type": "markdown",
   "metadata": {},
   "source": [
    "![SGDM](https://cdn.staticaly.com/gh/SisyphusTang/Picture-bed@master/20230826/SGDM.5um4zy6nwvo0.webp)"
   ]
  },
  {
   "attachments": {},
   "cell_type": "markdown",
   "metadata": {},
   "source": [
    "![Adagrad](https://cdn.staticaly.com/gh/SisyphusTang/Picture-bed@master/20230826/Adagrad.4plh2jamkf40.webp)"
   ]
  },
  {
   "attachments": {},
   "cell_type": "markdown",
   "metadata": {},
   "source": [
    "![RMSProp](https://cdn.staticaly.com/gh/SisyphusTang/Picture-bed@master/20230826/RMSProp.5y4db4vpblo0.webp)"
   ]
  },
  {
   "cell_type": "code",
   "execution_count": null,
   "metadata": {},
   "outputs": [],
   "source": [
    "![Adam](https://cdn.staticaly.com/gh/SisyphusTang/Picture-bed@master/20230826/Adam.xpomg2cn72o.webp)"
   ]
  }
 ],
 "metadata": {
  "kernelspec": {
   "display_name": "tf2",
   "language": "python",
   "name": "python3"
  },
  "language_info": {
   "codemirror_mode": {
    "name": "ipython",
    "version": 3
   },
   "file_extension": ".py",
   "mimetype": "text/x-python",
   "name": "python",
   "nbconvert_exporter": "python",
   "pygments_lexer": "ipython3",
   "version": "3.8.0"
  },
  "orig_nbformat": 4
 },
 "nbformat": 4,
 "nbformat_minor": 2
}
