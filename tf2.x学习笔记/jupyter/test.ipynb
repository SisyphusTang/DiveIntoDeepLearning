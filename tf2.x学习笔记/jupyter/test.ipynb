{
 "cells": [
  {
   "cell_type": "code",
   "execution_count": 3,
   "metadata": {},
   "outputs": [
    {
     "name": "stdout",
     "output_type": "stream",
     "text": [
      "   col1  col2  col3\n",
      "0     1     2     3\n",
      "1     4     5     6\n",
      "2     7     8     9\n",
      "3    10    11    12\n",
      "4    13    14    15\n",
      "5    16    17    18\n",
      "6    19    20    21\n",
      "7    22    23    24\n"
     ]
    }
   ],
   "source": [
    "from sklearn import datasets\n",
    "from pandas import DataFrame\n",
    "import pandas as pd\n",
    "import numpy as np\n",
    "x_data = np.arange(1,25).reshape(8,3)\n",
    "x_data =  DataFrame(x_data, columns=['col1', 'col2', 'col3'])\n",
    "print(x_data)\n",
    "# x_data = datasets.load_iris().data  # .data返回iris数据集所有输入特征\n",
    "# y_data = datasets.load_iris().target  # .target返回iris数据集所有标签\n",
    "# print(\"x_data from datasets: \\n\", x_data)\n",
    "# print(\"y_data from datasets: \\n\", y_data)\n",
    "\n",
    "# x_data = DataFrame(x_data, columns=['花萼长度', '花萼宽度', '花瓣长度', '花瓣宽度']) # 为表格增加行索引（左侧）和列标签（上方）\n",
    "# pd.set_option('display.unicode.east_asian_width', True)  # 设置列名对齐\n",
    "# print(\"x_data add index: \\n\", x_data)\n",
    "\n",
    "# x_data['类别'] = y_data  # 新加一列，列标签为‘类别’，数据为y_data\n",
    "# print(\"x_data add a column: \\n\", x_data)\n",
    "\n",
    "#类型维度不确定时，建议用print函数打印出来确认效果"
   ]
  }
 ],
 "metadata": {
  "kernelspec": {
   "display_name": "tf2",
   "language": "python",
   "name": "python3"
  },
  "language_info": {
   "codemirror_mode": {
    "name": "ipython",
    "version": 3
   },
   "file_extension": ".py",
   "mimetype": "text/x-python",
   "name": "python",
   "nbconvert_exporter": "python",
   "pygments_lexer": "ipython3",
   "version": "3.8.0"
  },
  "orig_nbformat": 4
 },
 "nbformat": 4,
 "nbformat_minor": 2
}
