{
 "cells": [
  {
   "attachments": {},
   "cell_type": "markdown",
   "metadata": {},
   "source": [
    "# 6.1 从全连接层到卷积\n",
    "前面当中的猫狗分类，假设输入的照片像素为100万，hidden层降为1000个，这样的全连接层也有$10^9$个参数，即100亿个，这样模型的训练下来需要大量的GPU、分布式优化训练的经验\n",
    "\n",
    "图像中本就拥有丰富的结构可以被人类和机器学习模型使用，卷积神经网络(convolutional neural networks) 是机器学习利用自然图像中一些已知结构的创造性方法\n"
   ]
  },
  {
   "attachments": {},
   "cell_type": "markdown",
   "metadata": {},
   "source": [
    "## 6.1.1 不变性\n",
    "\n",
    "\n",
    "平移不变性（translation invariance）：不管检测对象出现在图像中的哪个位置，神经网络的前面几层应该对相同的图像区域具有相似的反应，即为“平移不变性”。\n",
    "\n",
    "局部性（locality）：神经网络的前面几层应该只探索输入图像中的局部区域，而不过度在意图像中相隔较远区域的关系，这就是“局部性”原则。最终，可以聚合这些局部特征，以在整个图像级别进行预测。"
   ]
  },
  {
   "attachments": {},
   "cell_type": "markdown",
   "metadata": {},
   "source": [
    "## 6.1.2 多层感知机的限制\n",
    "$X_{i,j}$ 和 $H_{i,j}$ 分别表示输入图像和隐藏表示中 （i，j）处的像素，将权重W扩展为四阶矩阵，可以得到全连接层表示为如下公式\n",
    "\n",
    "$H_{i,j} = Bias_{i,j} + \\sum_{k}\\sum_{l}W_{i,j,k,l}X_{k,l}$（6.1.1）"
   ]
  },
  {
   "attachments": {},
   "cell_type": "markdown",
   "metadata": {},
   "source": [
    "令下标`k = i + a, l = j + b`\n",
    "得到\n",
    "\n",
    "$H_{i,j} = Bias_{i,j} + \\sum_{i+a}\\sum_{j+b}W_{i,j,i+a,j+b}X_{i+a,j+b}$\n",
    "\n",
    "重新索引下标使得其中的$W_{i,j,i+a,j+b}$等价替换为$V_{i,j,a,b}$即可以得到\n",
    "\n",
    "$H_{i,j} = Bias_{i,j} + \\sum_{a}\\sum_{b}V_{i,j,a,b}X_{i+a,j+b}$"
   ]
  },
  {
   "attachments": {},
   "cell_type": "markdown",
   "metadata": {},
   "source": [
    "#### 6.1.2.1 平移不变性\n",
    "检测对象在X当中平移，仅仅导致H中的平移，V和U实际上不依赖于(i,j)的值即\n",
    "$V_{i,j,a,b} = V_{a,b}$可以简化H定义为:\n",
    "\n",
    "$H_{i,j} = u + \\sum_{a}\\sum_{b}V_{a,b}X_{i+a,j+b}$"
   ]
  },
  {
   "cell_type": "code",
   "execution_count": null,
   "metadata": {
    "vscode": {
     "languageId": "plaintext"
    }
   },
   "outputs": [],
   "source": []
  },
  {
   "attachments": {},
   "cell_type": "markdown",
   "metadata": {},
   "source": [
    "使用系数$V_{a,b}$对位置(i,j)附近的像素(i+a,j+b)进行加权得到"
   ]
  }
 ],
 "metadata": {
  "language_info": {
   "name": "python"
  },
  "orig_nbformat": 4
 },
 "nbformat": 4,
 "nbformat_minor": 2
}
