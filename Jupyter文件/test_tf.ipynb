{
 "cells": [
  {
   "cell_type": "code",
   "execution_count": 2,
   "metadata": {},
   "outputs": [
    {
     "ename": "AttributeError",
     "evalue": "module 'tensorflow' has no attribute 'ConfigProto'",
     "output_type": "error",
     "traceback": [
      "\u001b[1;31m---------------------------------------------------------------------------\u001b[0m",
      "\u001b[1;31mAttributeError\u001b[0m                            Traceback (most recent call last)",
      "Cell \u001b[1;32mIn[2], line 12\u001b[0m\n\u001b[0;32m      7\u001b[0m     c \u001b[39m=\u001b[39m a \u001b[39m+\u001b[39m b\n\u001b[0;32m      9\u001b[0m \u001b[39m# 注意：allow_soft_placement=True表明：计算设备可自行选择，如果没有这个参数，会报错。\u001b[39;00m\n\u001b[0;32m     10\u001b[0m \u001b[39m# 因为不是所有的操作都可以被放在GPU上，如果强行将无法放在GPU上的操作指定到GPU上，将会报错。\u001b[39;00m\n\u001b[1;32m---> 12\u001b[0m sess \u001b[39m=\u001b[39m tf\u001b[39m.\u001b[39mcompat\u001b[39m.\u001b[39mv1\u001b[39m.\u001b[39mSession(config\u001b[39m=\u001b[39mtf\u001b[39m.\u001b[39;49mConfigProto(allow_soft_placement\u001b[39m=\u001b[39m\u001b[39mTrue\u001b[39;00m, log_device_placement\u001b[39m=\u001b[39m\u001b[39mTrue\u001b[39;00m))\n\u001b[0;32m     13\u001b[0m \u001b[39m# sess = tf.Session()\u001b[39;00m\n\u001b[0;32m     14\u001b[0m \u001b[39m# sess = tf.Session(config=tf.ConfigProto(log_device_placement=True))\u001b[39;00m\n\u001b[0;32m     15\u001b[0m sess\u001b[39m.\u001b[39mrun(tf\u001b[39m.\u001b[39mglobal_variables_initializer())\n",
      "\u001b[1;31mAttributeError\u001b[0m: module 'tensorflow' has no attribute 'ConfigProto'"
     ]
    }
   ],
   "source": [
    "import tensorflow as tf\n",
    "\n",
    "with tf.device('/cpu:0'):\n",
    "    a = tf.constant([1.0, 2.0, 3.0], shape=[3], name='a')\n",
    "    b = tf.constant([1.0, 2.0, 3.0], shape=[3], name='b')\n",
    "with tf.device('/gpu:2'):\n",
    "    c = a + b\n",
    "\n",
    "# 注意：allow_soft_placement=True表明：计算设备可自行选择，如果没有这个参数，会报错。\n",
    "# 因为不是所有的操作都可以被放在GPU上，如果强行将无法放在GPU上的操作指定到GPU上，将会报错。\n",
    "\n",
    "sess = tf.compat.v1.Session(config=tf.ConfigProto(allow_soft_placement=True, log_device_placement=True))\n",
    "# sess = tf.Session()\n",
    "# sess = tf.Session(config=tf.ConfigProto(log_device_placement=True))\n",
    "sess.run(tf.global_variables_initializer())\n",
    "print(sess.run(c))\n"
   ]
  }
 ],
 "metadata": {
  "kernelspec": {
   "display_name": "tf2",
   "language": "python",
   "name": "python3"
  },
  "language_info": {
   "codemirror_mode": {
    "name": "ipython",
    "version": 3
   },
   "file_extension": ".py",
   "mimetype": "text/x-python",
   "name": "python",
   "nbconvert_exporter": "python",
   "pygments_lexer": "ipython3",
   "version": "3.8.0"
  },
  "orig_nbformat": 4
 },
 "nbformat": 4,
 "nbformat_minor": 2
}
