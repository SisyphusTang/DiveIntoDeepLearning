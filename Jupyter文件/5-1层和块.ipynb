{
 "cells": [
  {
   "cell_type": "markdown",
   "metadata": {},
   "source": [
    "# 5-1 层和块\n",
    "## 自定义块\n",
    "从编程的角度来看，块由类（class）表示。 **它的任何子类都必须定义一个将其输入转换为输出的前向传播函数(forward())**， 并且必须存储任何必需的参数。 注意，有些块不需要任何参数。 最后，为了计算梯度，块必须具有反向传播函数。"
   ]
  },
  {
   "cell_type": "markdown",
   "metadata": {},
   "source": [
    "每个block（Class）必须提供的基本功能:\n",
    "- 将输入数据作为其前向传播函数的参数。\n",
    "- 通过前向传播函数来生成输出。请注意，输出的形状可能与输入的形状不同。例如，我们上面模型中的第一个全连接的层接收一个20维的输入，但是返回一个维度为256的输出。\n",
    "\n",
    "- 计算其输出关于输入的梯度，可通过其反向传播函数进行访问(如果不是实现特殊的运算符，这里可以自动实现)\n",
    "\n",
    "- 存储和访问前向传播计算所需的参数。\n",
    "\n",
    "- 根据需要初始化模型参数。"
   ]
  },
  {
   "cell_type": "code",
   "execution_count": 1,
   "metadata": {},
   "outputs": [],
   "source": [
    "import torch\n",
    "from torch import nn\n",
    "from torch.nn import functional as F\n",
    "class MLP(nn.Module):\n",
    "    def __init__(self, *args, **kwargs) -> None:\n",
    "        super().__init__(*args, **kwargs)\n",
    "        self.hidden = nn.Linear(20, 256)\n",
    "        self.out = nn.Linear(256,10)\n",
    "    # 根据输入返回模型的输出\n",
    "    def forward(self, X):\n",
    "        return self.out(F.relu(self.hidden(X)))\n"
   ]
  },
  {
   "cell_type": "code",
   "execution_count": 3,
   "metadata": {},
   "outputs": [
    {
     "data": {
      "text/plain": [
       "tensor([[ 0.1049, -0.2223, -0.1704, -0.1491, -0.1620,  0.0377, -0.0991, -0.1230,\n",
       "         -0.2482,  0.0553],\n",
       "        [ 0.0706, -0.0811, -0.0398, -0.0071,  0.0384,  0.1277, -0.2024, -0.0832,\n",
       "         -0.0261, -0.0901]], grad_fn=<AddmmBackward0>)"
      ]
     },
     "execution_count": 3,
     "metadata": {},
     "output_type": "execute_result"
    }
   ],
   "source": [
    "net = MLP()\n",
    "x = torch.rand(2,20)\n",
    "net(x) #这里的forward函数是自动调用的"
   ]
  },
  {
   "cell_type": "markdown",
   "metadata": {},
   "source": [
    "## 5.1.2 顺序块\n"
   ]
  },
  {
   "cell_type": "code",
   "execution_count": 9,
   "metadata": {},
   "outputs": [],
   "source": [
    "class MySequential(nn.Module):\n",
    "    def __init__(self, *args):\n",
    "        super().__init__()\n",
    "        for idx,module in enumerate(args):\n",
    "            self._modules[str(idx)] = module\n",
    "    \n",
    "\n",
    "    def forward(self, X):\n",
    "        for block in self._modules.values():\n",
    "            X = block(X)\n",
    "        return X"
   ]
  },
  {
   "cell_type": "code",
   "execution_count": 11,
   "metadata": {},
   "outputs": [
    {
     "data": {
      "text/plain": [
       "tensor([[-0.1611, -0.0203, -0.0658, -0.0285, -0.0178, -0.0358, -0.2219,  0.0549,\n",
       "          0.0152,  0.1173],\n",
       "        [-0.2200,  0.1045,  0.0355,  0.0329, -0.0730, -0.1035, -0.3430,  0.0208,\n",
       "          0.0131,  0.1720]], grad_fn=<AddmmBackward0>)"
      ]
     },
     "execution_count": 11,
     "metadata": {},
     "output_type": "execute_result"
    }
   ],
   "source": [
    "net = MySequential(nn.Linear(20, 256), nn.ReLU(), nn.Linear(256, 10))\n",
    "X = torch.rand(2,20)\n",
    "net(X)"
   ]
  }
 ],
 "metadata": {
  "kernelspec": {
   "display_name": "demo_jupyter",
   "language": "python",
   "name": "demo_jupyter"
  },
  "language_info": {
   "codemirror_mode": {
    "name": "ipython",
    "version": 3
   },
   "file_extension": ".py",
   "mimetype": "text/x-python",
   "name": "python",
   "nbconvert_exporter": "python",
   "pygments_lexer": "ipython3",
   "version": "3.11.7"
  }
 },
 "nbformat": 4,
 "nbformat_minor": 2
}
