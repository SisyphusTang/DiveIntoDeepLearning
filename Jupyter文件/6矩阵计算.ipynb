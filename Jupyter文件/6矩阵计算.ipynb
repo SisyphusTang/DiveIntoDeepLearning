{
 "cells": [
  {
   "cell_type": "markdown",
   "id": "93db6616",
   "metadata": {},
   "source": [
    "# 标量导数\n",
    "06标量倒数 date:2023-07-15"
   ]
  },
  {
   "cell_type": "markdown",
   "id": "612d4b27",
   "metadata": {},
   "source": [
    "![](https://cdn.staticaly.com/gh/SisyphusTang/Picture-bed@master/20230715/标量导数.41ttl8qncku0.webp)"
   ]
  },
  {
   "cell_type": "markdown",
   "id": "2b2ca8d1",
   "metadata": {},
   "source": [
    "## 亚导数"
   ]
  },
  {
   "cell_type": "markdown",
   "id": "62723566",
   "metadata": {},
   "source": [
    "![](https://cdn.staticaly.com/gh/SisyphusTang/Picture-bed@master/20230715/亚倒数.5ww9a3m8tk40.webp)"
   ]
  },
  {
   "cell_type": "markdown",
   "id": "abb0c983",
   "metadata": {},
   "source": [
    "## 梯度"
   ]
  },
  {
   "cell_type": "markdown",
   "id": "0d8308be",
   "metadata": {},
   "source": [
    "![](https://cdn.staticaly.com/gh/SisyphusTang/Picture-bed@master/20230715/梯度new.75x677liezk0.webp)"
   ]
  },
  {
   "cell_type": "markdown",
   "id": "a7b51d98",
   "metadata": {},
   "source": [
    "![](https://cdn.staticaly.com/gh/SisyphusTang/Picture-bed@master/20230715/梯度求导。png.qb1ka4sepv4.webp)"
   ]
  },
  {
   "cell_type": "markdown",
   "id": "398b5c01",
   "metadata": {},
   "source": [
    "![](https://cdn.staticaly.com/gh/SisyphusTang/Picture-bed@master/20230715/样例.586j0wsv2qw.webp)"
   ]
  },
  {
   "cell_type": "markdown",
   "id": "2ee0f35b",
   "metadata": {},
   "source": [
    "![](https://cdn.staticaly.com/gh/SisyphusTang/Picture-bed@master/20230715/Snipaste_2023-07-15_18-08-30.5p8d0pblf8o0.webp)"
   ]
  },
  {
   "cell_type": "markdown",
   "id": "c7074b56",
   "metadata": {},
   "source": [
    "![](https://cdn.staticaly.com/gh/SisyphusTang/Picture-bed@master/20230715/向量关于向量.3q8q81dzweq0.webp)"
   ]
  },
  {
   "cell_type": "markdown",
   "id": "e096fa9c",
   "metadata": {},
   "source": [
    "![](https://cdn.staticaly.com/gh/SisyphusTang/Picture-bed@master/20230715/矩阵与矩阵示例.13fo55ptcdk0.webp)"
   ]
  },
  {
   "cell_type": "markdown",
   "id": "bb6dea6e",
   "metadata": {},
   "source": [
    "**注：前面的示例都是针对于行/列向量，不是针对于矩阵**"
   ]
  },
  {
   "cell_type": "markdown",
   "id": "adb55301",
   "metadata": {},
   "source": [
    "![](https://cdn.staticaly.com/gh/SisyphusTang/Picture-bed@master/20230715/扩展到矩阵.v5mbnotmt0w.webp)"
   ]
  },
  {
   "cell_type": "code",
   "execution_count": null,
   "id": "7fbc9901",
   "metadata": {},
   "outputs": [],
   "source": []
  }
 ],
 "metadata": {
  "kernelspec": {
   "display_name": "Python 3 (ipykernel)",
   "language": "python",
   "name": "python3"
  },
  "language_info": {
   "codemirror_mode": {
    "name": "ipython",
    "version": 3
   },
   "file_extension": ".py",
   "mimetype": "text/x-python",
   "name": "python",
   "nbconvert_exporter": "python",
   "pygments_lexer": "ipython3",
   "version": "3.10.9"
  }
 },
 "nbformat": 4,
 "nbformat_minor": 5
}
