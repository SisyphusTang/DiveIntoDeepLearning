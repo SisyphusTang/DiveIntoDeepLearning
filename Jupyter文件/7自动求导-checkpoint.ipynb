{
 "cells": [
  {
   "cell_type": "markdown",
   "id": "c06128ea",
   "metadata": {},
   "source": [
    "# 07 自动求导\n",
    "date: 2023-07-16"
   ]
  },
  {
   "cell_type": "markdown",
   "id": "a8350a40",
   "metadata": {},
   "source": [
    "![](https://raw.githubusercontent.com/SisyphusTang/Picture-bed/master/image-20230716152025420.png) "
   ]
  },
  {
   "cell_type": "markdown",
   "id": "e68b94ab",
   "metadata": {},
   "source": [
    " X,W为两个向量，X和W的内积<X,W>与标量y的差的平方求z的导数\n",
    "![](https://raw.githubusercontent.com/SisyphusTang/Picture-bed/master/image-20230716152400193.png)"
   ]
  },
  {
   "cell_type": "markdown",
   "id": "7b20d550",
   "metadata": {},
   "source": [
    "![](https://raw.githubusercontent.com/SisyphusTang/Picture-bed/master/image-20230716152509019.png)"
   ]
  },
  {
   "cell_type": "markdown",
   "id": "d40d1925",
   "metadata": {},
   "source": [
    "## 自动求导"
   ]
  },
  {
   "cell_type": "markdown",
   "id": "520951fd",
   "metadata": {},
   "source": [
    "### 计算图"
   ]
  },
  {
   "cell_type": "markdown",
   "id": "df742cb8",
   "metadata": {},
   "source": [
    "![](https://raw.githubusercontent.com/SisyphusTang/Picture-bed/master/image-20230716152700381.png)"
   ]
  },
  {
   "cell_type": "markdown",
   "id": "b3634bea",
   "metadata": {},
   "source": [
    "![](https://raw.githubusercontent.com/SisyphusTang/Picture-bed/master/image-20230716152814450.png)"
   ]
  },
  {
   "cell_type": "markdown",
   "id": "ed8864fc",
   "metadata": {},
   "source": [
    "![](https://raw.githubusercontent.com/SisyphusTang/Picture-bed/master/image-20230716152904574.png)\n",
    "![](https://raw.githubusercontent.com/SisyphusTang/Picture-bed/master/image-20230716153229915.png)\n",
    "**反向求的时候，因为第一遍正向计算将中间结果存起来，后面反向求梯度就可以直接算**\n",
    "![](https://raw.githubusercontent.com/SisyphusTang/Picture-bed/master/image-20230716153303090.png)\n",
    "![](https://raw.githubusercontent.com/SisyphusTang/Picture-bed/master/image-20230716153406544.png)"
   ]
  },
  {
   "cell_type": "code",
   "execution_count": 2,
   "id": "ecded6e5",
   "metadata": {},
   "outputs": [
    {
     "data": {
      "text/plain": [
       "tensor([0., 1., 2., 3.])"
      ]
     },
     "execution_count": 2,
     "metadata": {},
     "output_type": "execute_result"
    }
   ],
   "source": [
    "import torch\n",
    "x = torch.arange(4.0)\n",
    "x"
   ]
  },
  {
   "cell_type": "markdown",
   "id": "a4b4afbb",
   "metadata": {},
   "source": [
    "在计算y关于x的梯度之前，我们需要一个地方来存储梯度。"
   ]
  },
  {
   "cell_type": "code",
   "execution_count": 3,
   "id": "03ebcd96",
   "metadata": {},
   "outputs": [],
   "source": [
    "x.requires_grad_(True) # 等价于 x = torch.arange(4.0,requires_grad_)\n",
    "x.grad # 默认是none"
   ]
  },
  {
   "cell_type": "code",
   "execution_count": 4,
   "id": "97678411",
   "metadata": {},
   "outputs": [
    {
     "data": {
      "text/plain": [
       "tensor(28., grad_fn=<MulBackward0>)"
      ]
     },
     "execution_count": 4,
     "metadata": {},
     "output_type": "execute_result"
    }
   ],
   "source": [
    "y = 2 * torch.dot(x,x)\n",
    "y"
   ]
  },
  {
   "cell_type": "markdown",
   "id": "28c6ce4f",
   "metadata": {},
   "source": [
    "**调用反向传播函数来自动计算y关于x每个分量的梯度**"
   ]
  },
  {
   "cell_type": "code",
   "execution_count": 5,
   "id": "5628afb0",
   "metadata": {},
   "outputs": [
    {
     "data": {
      "text/plain": [
       "tensor([ 0.,  4.,  8., 12.])"
      ]
     },
     "execution_count": 5,
     "metadata": {},
     "output_type": "execute_result"
    }
   ],
   "source": [
    "y.backward()\n",
    "x.grad  # 函数y的梯度"
   ]
  },
  {
   "cell_type": "code",
   "execution_count": 6,
   "id": "5107d50a",
   "metadata": {},
   "outputs": [
    {
     "data": {
      "text/plain": [
       "tensor([True, True, True, True])"
      ]
     },
     "execution_count": 6,
     "metadata": {},
     "output_type": "execute_result"
    }
   ],
   "source": [
    "x.grad == 4 * x"
   ]
  },
  {
   "cell_type": "markdown",
   "id": "2ad584dd",
   "metadata": {},
   "source": [
    "**默认情况下 pytorch会累积梯度，需要清除之前的值**"
   ]
  },
  {
   "cell_type": "code",
   "execution_count": 7,
   "id": "069f1d76",
   "metadata": {},
   "outputs": [
    {
     "data": {
      "text/plain": [
       "tensor([1., 1., 1., 1.])"
      ]
     },
     "execution_count": 7,
     "metadata": {},
     "output_type": "execute_result"
    }
   ],
   "source": [
    "x.grad.zero_()\n",
    "y = x.sum()\n",
    "y.backward()\n",
    "x.grad # 对四个分量分别求偏导数 所以是四个1"
   ]
  },
  {
   "cell_type": "code",
   "execution_count": 8,
   "id": "51d47682",
   "metadata": {},
   "outputs": [
    {
     "data": {
      "text/plain": [
       "tensor([[[ 0,  1,  2,  3],\n",
       "         [ 4,  5,  6,  7],\n",
       "         [ 8,  9, 10, 11]],\n",
       "\n",
       "        [[12, 13, 14, 15],\n",
       "         [16, 17, 18, 19],\n",
       "         [20, 21, 22, 23]]])"
      ]
     },
     "execution_count": 8,
     "metadata": {},
     "output_type": "execute_result"
    }
   ],
   "source": [
    "A = torch.arange(24).reshape(2,3,4)\n",
    "A"
   ]
  },
  {
   "cell_type": "code",
   "execution_count": 9,
   "id": "820c0c0e",
   "metadata": {},
   "outputs": [
    {
     "data": {
      "text/plain": [
       "tensor([[[12, 14, 16, 18],\n",
       "         [20, 22, 24, 26],\n",
       "         [28, 30, 32, 34]]])"
      ]
     },
     "execution_count": 9,
     "metadata": {},
     "output_type": "execute_result"
    }
   ],
   "source": [
    "t = A.sum(axis = 0,keepdims = True)\n",
    "t"
   ]
  },
  {
   "cell_type": "code",
   "execution_count": 10,
   "id": "77bc46b0",
   "metadata": {},
   "outputs": [
    {
     "data": {
      "text/plain": [
       "(tensor([[ 0,  1,  2,  3,  4,  5,  6,  7],\n",
       "         [ 8,  9, 10, 11, 12, 13, 14, 15],\n",
       "         [16, 17, 18, 19, 20, 21, 22, 23]]),\n",
       " tensor([[1., 1., 1., 1., 1., 1., 1., 1.],\n",
       "         [1., 1., 1., 1., 1., 1., 1., 1.],\n",
       "         [1., 1., 1., 1., 1., 1., 1., 1.]]))"
      ]
     },
     "execution_count": 10,
     "metadata": {},
     "output_type": "execute_result"
    }
   ],
   "source": [
    "A = torch.arange(24).reshape(3,8)\n",
    "B = torch.ones(3,8)\n",
    "A,B"
   ]
  },
  {
   "cell_type": "code",
   "execution_count": 11,
   "id": "84d80905",
   "metadata": {},
   "outputs": [
    {
     "name": "stdout",
     "output_type": "stream",
     "text": [
      "tensor([[ 0.,  1.,  2.,  3.,  4.,  5.,  6.,  7.],\n",
      "        [ 8.,  9., 10., 11., 12., 13., 14., 15.],\n",
      "        [16., 17., 18., 19., 20., 21., 22., 23.]])\n",
      "tensor(276.)\n"
     ]
    }
   ],
   "source": [
    "print(A*B)\n",
    "print(torch.sum(A*B))"
   ]
  },
  {
   "cell_type": "code",
   "execution_count": 13,
   "id": "b24846ec",
   "metadata": {},
   "outputs": [
    {
     "data": {
      "text/plain": [
       "tensor([0., 1., 4., 9.], grad_fn=<MulBackward0>)"
      ]
     },
     "execution_count": 13,
     "metadata": {},
     "output_type": "execute_result"
    }
   ],
   "source": [
    "x.grad.zero_()\n",
    "y = x*x\n",
    "y"
   ]
  },
  {
   "cell_type": "code",
   "execution_count": null,
   "id": "9a5437df",
   "metadata": {},
   "outputs": [],
   "source": []
  },
  {
   "cell_type": "code",
   "execution_count": null,
   "id": "d100b29e",
   "metadata": {},
   "outputs": [],
   "source": []
  }
 ],
 "metadata": {
  "kernelspec": {
   "display_name": "Python 3 (ipykernel)",
   "language": "python",
   "name": "python3"
  },
  "language_info": {
   "codemirror_mode": {
    "name": "ipython",
    "version": 3
   },
   "file_extension": ".py",
   "mimetype": "text/x-python",
   "name": "python",
   "nbconvert_exporter": "python",
   "pygments_lexer": "ipython3",
   "version": "3.10.9"
  }
 },
 "nbformat": 4,
 "nbformat_minor": 5
}
