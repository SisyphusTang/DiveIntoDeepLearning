{
 "cells": [
  {
   "attachments": {},
   "cell_type": "markdown",
   "metadata": {},
   "source": [
    "# 5.6 GPU\n",
    "+ 可以指定用于存储和计算的设备，例如CPU或GPU。默认情况下，数据在主内存中创建，然后使用CPU进行计算\n",
    "+ 深度学习框架要求计算的所有输入数据都在同一设备上，无论是CPU还是GPU\n",
    "+ 不经意地移动数据可能会显著降低性能\n",
    "  \n",
    "只要所有的数据和参数都在同一个设备上， 我们就可以有效地学习模型"
   ]
  },
  {
   "cell_type": "code",
   "execution_count": 1,
   "metadata": {},
   "outputs": [
    {
     "name": "stdout",
     "output_type": "stream",
     "text": [
      "Tue Aug  8 09:28:45 2023       \n",
      "+-----------------------------------------------------------------------------+\n",
      "| NVIDIA-SMI 528.92       Driver Version: 528.92       CUDA Version: 12.0     |\n",
      "|-------------------------------+----------------------+----------------------+\n",
      "| GPU  Name            TCC/WDDM | Bus-Id        Disp.A | Volatile Uncorr. ECC |\n",
      "| Fan  Temp  Perf  Pwr:Usage/Cap|         Memory-Usage | GPU-Util  Compute M. |\n",
      "|                               |                      |               MIG M. |\n",
      "|===============================+======================+======================|\n",
      "|   0  NVIDIA GeForce ... WDDM  | 00000000:01:00.0  On |                  N/A |\n",
      "| N/A   43C    P0    21W / 140W |    453MiB /  8188MiB |      3%      Default |\n",
      "|                               |                      |                  N/A |\n",
      "+-------------------------------+----------------------+----------------------+\n",
      "                                                                               \n",
      "+-----------------------------------------------------------------------------+\n",
      "| Processes:                                                                  |\n",
      "|  GPU   GI   CI        PID   Type   Process name                  GPU Memory |\n",
      "|        ID   ID                                                   Usage      |\n",
      "|=============================================================================|\n",
      "|    0   N/A  N/A       952    C+G   ...oft shared\\ink\\TabTip.exe    N/A      |\n",
      "|    0   N/A  N/A      2580    C+G   ...v10z8vjag6ke6\\HP.myHP.exe    N/A      |\n",
      "|    0   N/A  N/A      9312    C+G   ...cw5n1h2txyewy\\LockApp.exe    N/A      |\n",
      "|    0   N/A  N/A     11832    C+G   ...men.VadRedirectHelper.exe    N/A      |\n",
      "|    0   N/A  N/A     15068    C+G   ...icrosoft VS Code\\Code.exe    N/A      |\n",
      "|    0   N/A  N/A     18044    C+G   ...me\\Application\\chrome.exe    N/A      |\n",
      "|    0   N/A  N/A     20420    C+G   ...d\\runtime\\WeChatAppEx.exe    N/A      |\n",
      "|    0   N/A  N/A     22008    C+G   ...mmandCenterBackground.exe    N/A      |\n",
      "|    0   N/A  N/A     22320    C+G   ...ystemEventUtilityHost.exe    N/A      |\n",
      "|    0   N/A  N/A     23500    C+G   C:\\Windows\\System32\\dwm.exe     N/A      |\n",
      "|    0   N/A  N/A     24896    C+G   ...artMenuExperienceHost.exe    N/A      |\n",
      "|    0   N/A  N/A     26648    C+G   ...e\\PhoneExperienceHost.exe    N/A      |\n",
      "|    0   N/A  N/A     29924    C+G   ...ysdiag\\bin\\HipsDaemon.exe    N/A      |\n",
      "|    0   N/A  N/A     32452    C+G   ...n1h2txyewy\\SearchHost.exe    N/A      |\n",
      "|    0   N/A  N/A     32608    C+G   ...2txyewy\\TextInputHost.exe    N/A      |\n",
      "|    0   N/A  N/A     32668    C+G   C:\\Windows\\explorer.exe         N/A      |\n",
      "+-----------------------------------------------------------------------------+\n"
     ]
    }
   ],
   "source": [
    "!nvidia-smi"
   ]
  },
  {
   "cell_type": "code",
   "execution_count": 2,
   "metadata": {},
   "outputs": [
    {
     "data": {
      "text/plain": [
       "(device(type='cpu'), device(type='cuda'))"
      ]
     },
     "execution_count": 2,
     "metadata": {},
     "output_type": "execute_result"
    }
   ],
   "source": [
    "import torch\n",
    "from torch import nn\n",
    "\n",
    "torch.device('cpu'), torch.device('cuda'), \n",
    "# torch.device('cuda:1')"
   ]
  },
  {
   "cell_type": "code",
   "execution_count": 3,
   "metadata": {},
   "outputs": [
    {
     "data": {
      "text/plain": [
       "1"
      ]
     },
     "execution_count": 3,
     "metadata": {},
     "output_type": "execute_result"
    }
   ],
   "source": [
    "# 查询GPU数量\n",
    "torch.cuda.device_count()"
   ]
  },
  {
   "cell_type": "code",
   "execution_count": 4,
   "metadata": {},
   "outputs": [
    {
     "data": {
      "text/plain": [
       "(device(type='cuda', index=0),\n",
       " device(type='cpu'),\n",
       " [device(type='cuda', index=0)])"
      ]
     },
     "execution_count": 4,
     "metadata": {},
     "output_type": "execute_result"
    }
   ],
   "source": [
    "def try_gpu(i=0):  #@save\n",
    "    \"\"\"如果存在，则返回gpu(i)，否则返回cpu()\"\"\"\n",
    "    if torch.cuda.device_count() >= i + 1:\n",
    "        return torch.device(f'cuda:{i}')\n",
    "    return torch.device('cpu')\n",
    "\n",
    "def try_all_gpus():  #@save\n",
    "    \"\"\"返回所有可用的GPU，如果没有GPU，则返回[cpu(),]\"\"\"\n",
    "    devices = [torch.device(f'cuda:{i}')\n",
    "             for i in range(torch.cuda.device_count())]\n",
    "    return devices if devices else [torch.device('cpu')]\n",
    "\n",
    "try_gpu(), try_gpu(10), try_all_gpus()"
   ]
  },
  {
   "attachments": {},
   "cell_type": "markdown",
   "metadata": {},
   "source": [
    "## 5.6.2 张量与GPU\n",
    "查询张量所在的设备\n",
    "**注意**： 对多个项进行操作必须确保多个项都在同一个设备上，否则框架不知道\n",
    "在哪存储结果或在哪执行计算"
   ]
  },
  {
   "cell_type": "code",
   "execution_count": 5,
   "metadata": {},
   "outputs": [
    {
     "data": {
      "text/plain": [
       "device(type='cpu')"
      ]
     },
     "execution_count": 5,
     "metadata": {},
     "output_type": "execute_result"
    }
   ],
   "source": [
    "x = torch.tensor([1, 2, 3])\n",
    "# 默认情况下，所有变量和相关的计算都分配给CPU\n",
    "x.device"
   ]
  },
  {
   "attachments": {},
   "cell_type": "markdown",
   "metadata": {},
   "source": [
    "### 5.6.2.1 存储在GPU上"
   ]
  },
  {
   "cell_type": "code",
   "execution_count": 7,
   "metadata": {},
   "outputs": [
    {
     "name": "stdout",
     "output_type": "stream",
     "text": [
      "tensor([[1., 1., 1.],\n",
      "        [1., 1., 1.]], device='cuda:0')\n"
     ]
    }
   ],
   "source": [
    "X = torch.ones(2, 3, device=try_gpu())\n",
    "print(X)\n",
    "# Pytorch当中释放X所占的显存\n",
    "X = None"
   ]
  },
  {
   "cell_type": "code",
   "execution_count": null,
   "metadata": {},
   "outputs": [],
   "source": [
    "# 如果有两个GPU 可以在第二个GPU上创建一个随机变量\n",
    "Y = torch.rand(2, 3, device = try_gpu(1))\n",
    "Y"
   ]
  },
  {
   "attachments": {},
   "cell_type": "markdown",
   "metadata": {},
   "source": [
    "### 5.6.2.2 复制\n",
    "这里的意思是，要计算 `X + Y ` 当`X`位于`cuda:0`上，而`Y`位于`cuda:1`上时，需要把`X`复制到\n",
    "`cuda:1`上，只有`X` 和 `Y`位于同一块GPU上，才能执行相应的计算"
   ]
  },
  {
   "cell_type": "code",
   "execution_count": null,
   "metadata": {},
   "outputs": [],
   "source": [
    "Z = X.cuda(1) # X移动到cuda:1上\n",
    "print(X) # cuda:0\n",
    "print(Z) # cuda:1\n",
    "Y + Z"
   ]
  },
  {
   "attachments": {},
   "cell_type": "markdown",
   "metadata": {},
   "source": [
    "### 5.6.2.3 旁注\n",
    "在设备（CPU、GPU和其他机器）之间传输数据比计算慢得多，这也使得并行化变得更加困难\n",
    "+ 多个小操作比一个大操作糟糕得多\n",
    "+ 一次执行几个操作比代码中散布的许多单个操作要好得多"
   ]
  },
  {
   "attachments": {},
   "cell_type": "markdown",
   "metadata": {},
   "source": [
    "## 5.6.3 神经网络与GPU\n",
    "神经网络模型可以指定设备"
   ]
  },
  {
   "cell_type": "code",
   "execution_count": 8,
   "metadata": {},
   "outputs": [],
   "source": [
    "\n",
    "net = nn.Sequential(nn.Linear(3, 1))\n",
    "net = net.to(device=try_gpu())"
   ]
  },
  {
   "cell_type": "code",
   "execution_count": 18,
   "metadata": {},
   "outputs": [
    {
     "data": {
      "text/plain": [
       "tensor([[0.2907],\n",
       "        [0.2907]], device='cuda:0', grad_fn=<AddmmBackward0>)"
      ]
     },
     "execution_count": 18,
     "metadata": {},
     "output_type": "execute_result"
    }
   ],
   "source": [
    "# X = torch.ones((2,3))\n",
    "# net(X)\n",
    "# 上面代码会报错 因为X默认在CPU当中，net() 在cuda:0当中 不在同一个device\n",
    "\n",
    "X = torch.ones(2, 3, device=try_gpu())\n",
    "net(X)"
   ]
  },
  {
   "cell_type": "code",
   "execution_count": 19,
   "metadata": {},
   "outputs": [
    {
     "name": "stdout",
     "output_type": "stream",
     "text": [
      "NumPy CPU 矩阵乘法耗时：4.344089 秒\n",
      "PyTorch GPU 矩阵乘法耗时：0.005491 秒\n"
     ]
    }
   ],
   "source": [
    "#  GPU对于矩阵的乘法比CPU快（小范围的要慢）\n",
    "import time\n",
    "import numpy as np\n",
    "import torch\n",
    "import os\n",
    "os.environ [\"KMP_DUPLICATE_LIB_OK\"] =\"TRUE\"\n",
    "# 定义矩阵的大小\n",
    "matrix_size = (10000, 10000)\n",
    "\n",
    "# 生成随机矩阵\n",
    "np_matrix1 = np.random.rand(*matrix_size)\n",
    "np_matrix2 = np.random.rand(*matrix_size)\n",
    "\n",
    "# NumPy CPU矩阵乘法\n",
    "start_time = time.time()\n",
    "np_result = np.dot(np_matrix1, np_matrix2)\n",
    "end_time = time.time()\n",
    "cpu_time = end_time - start_time\n",
    "\n",
    "# 将NumPy矩阵转换为PyTorch张量，并将其移动到GPU上（如果可用）\n",
    "torch_matrix1 = torch.tensor(np_matrix1)\n",
    "torch_matrix2 = torch.tensor(np_matrix2)\n",
    "device = torch.device(\"cuda:0\" if torch.cuda.is_available() else \"cpu\")\n",
    "torch_matrix1 = torch_matrix1.to(device)\n",
    "torch_matrix2 = torch_matrix2.to(device)\n",
    "\n",
    "# PyTorch GPU矩阵乘法\n",
    "start_time = time.time()\n",
    "torch_result = torch.mm(torch_matrix1, torch_matrix2)\n",
    "end_time = time.time()\n",
    "gpu_time = end_time - start_time\n",
    "\n",
    "# 输出结果\n",
    "print(f\"NumPy CPU 矩阵乘法耗时：{cpu_time:.6f} 秒\")\n",
    "print(f\"PyTorch GPU 矩阵乘法耗时：{gpu_time:.6f} 秒\")\n"
   ]
  }
 ],
 "metadata": {
  "kernelspec": {
   "display_name": "base",
   "language": "python",
   "name": "python3"
  },
  "language_info": {
   "codemirror_mode": {
    "name": "ipython",
    "version": 3
   },
   "file_extension": ".py",
   "mimetype": "text/x-python",
   "name": "python",
   "nbconvert_exporter": "python",
   "pygments_lexer": "ipython3",
   "version": "3.10.9"
  },
  "orig_nbformat": 4
 },
 "nbformat": 4,
 "nbformat_minor": 2
}
