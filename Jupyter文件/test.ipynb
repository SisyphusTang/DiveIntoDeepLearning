{
 "cells": [
  {
   "cell_type": "code",
   "execution_count": 2,
   "metadata": {},
   "outputs": [
    {
     "name": "stdout",
     "output_type": "stream",
     "text": [
      "NumPy CPU 矩阵乘法耗时：4.253963 秒\n",
      "PyTorch GPU 矩阵乘法耗时：0.011390 秒\n"
     ]
    }
   ],
   "source": [
    "import time\n",
    "import numpy as np\n",
    "import torch\n",
    "import os\n",
    "os.environ [\"KMP_DUPLICATE_LIB_OK\"] =\"TRUE\"\n",
    "# 定义矩阵的大小\n",
    "matrix_size = (10000, 10000)\n",
    "\n",
    "# 生成随机矩阵\n",
    "np_matrix1 = np.random.rand(*matrix_size)\n",
    "np_matrix2 = np.random.rand(*matrix_size)\n",
    "\n",
    "# NumPy CPU矩阵乘法\n",
    "start_time = time.time()\n",
    "np_result = np.dot(np_matrix1, np_matrix2)\n",
    "end_time = time.time()\n",
    "cpu_time = end_time - start_time\n",
    "\n",
    "# 将NumPy矩阵转换为PyTorch张量，并将其移动到GPU上（如果可用）\n",
    "torch_matrix1 = torch.tensor(np_matrix1)\n",
    "torch_matrix2 = torch.tensor(np_matrix2)\n",
    "device = torch.device(\"cuda:0\" if torch.cuda.is_available() else \"cpu\")\n",
    "torch_matrix1 = torch_matrix1.to(device)\n",
    "torch_matrix2 = torch_matrix2.to(device)\n",
    "\n",
    "# PyTorch GPU矩阵乘法\n",
    "start_time = time.time()\n",
    "torch_result = torch.mm(torch_matrix1, torch_matrix2)\n",
    "end_time = time.time()\n",
    "gpu_time = end_time - start_time\n",
    "\n",
    "# 输出结果\n",
    "print(f\"NumPy CPU 矩阵乘法耗时：{cpu_time:.6f} 秒\")\n",
    "print(f\"PyTorch GPU 矩阵乘法耗时：{gpu_time:.6f} 秒\")\n"
   ]
  },
  {
   "cell_type": "code",
   "execution_count": 16,
   "metadata": {},
   "outputs": [
    {
     "data": {
      "text/html": [
       "<div>\n",
       "<style scoped>\n",
       "    .dataframe tbody tr th:only-of-type {\n",
       "        vertical-align: middle;\n",
       "    }\n",
       "\n",
       "    .dataframe tbody tr th {\n",
       "        vertical-align: top;\n",
       "    }\n",
       "\n",
       "    .dataframe thead th {\n",
       "        text-align: right;\n",
       "    }\n",
       "</style>\n",
       "<table border=\"1\" class=\"dataframe\">\n",
       "  <thead>\n",
       "    <tr style=\"text-align: right;\">\n",
       "      <th></th>\n",
       "      <th>Age</th>\n",
       "      <th>Salary</th>\n",
       "    </tr>\n",
       "  </thead>\n",
       "  <tbody>\n",
       "    <tr>\n",
       "      <th>0</th>\n",
       "      <td>25.0</td>\n",
       "      <td>1</td>\n",
       "    </tr>\n",
       "    <tr>\n",
       "      <th>1</th>\n",
       "      <td>0.0</td>\n",
       "      <td>2</td>\n",
       "    </tr>\n",
       "    <tr>\n",
       "      <th>2</th>\n",
       "      <td>35.0</td>\n",
       "      <td>3</td>\n",
       "    </tr>\n",
       "  </tbody>\n",
       "</table>\n",
       "</div>"
      ],
      "text/plain": [
       "    Age  Salary\n",
       "0  25.0       1\n",
       "1   0.0       2\n",
       "2  35.0       3"
      ]
     },
     "execution_count": 16,
     "metadata": {},
     "output_type": "execute_result"
    }
   ],
   "source": [
    "# data = {\n",
    "#     'Name': ['Alice', 'Bob', 'Charlie'],\n",
    "#     'Age': [25, None, 35],\n",
    "#     'Salary': [1, 2, 3]\n",
    "# }\n",
    "\n",
    "# df = pd.DataFrame(data)\n",
    "\n",
    "# x = df.dtypes[df.dtypes != 'object'].index\n",
    "\n",
    "# df[x] =  df[x].fillna(0)\n",
    "# df[x]\n",
    "# df[x].fillna(0)\n",
    "# df\n",
    "\n",
    "\n",
    "test_list = ['a','b','c']\n",
    "a = 1 \n",
    "test_list[0] \n",
    "\n",
    "\n"
   ]
  },
  {
   "cell_type": "code",
   "execution_count": 1,
   "metadata": {},
   "outputs": [],
   "source": [
    "import socket\n",
    "# 1.创建socket\n",
    "tcp_socket = socket.socket(socket.AF_INET, socket.SOCK_STREAM)\n",
    "\n",
    "# 2. 链接服务器\n",
    "server_addr = (\"61.139.65.141\", 50461)\n",
    "tcp_socket.connect(server_addr)\n",
    "\n",
    "# 3. 发送数据\n",
    "send_data = input(\"请输入要发送的数据：\")\n",
    "tcp_socket.send(send_data.encode(\"gbk\"))\n",
    "\n",
    "# 4. 关闭套接字\n",
    "tcp_socket.close()"
   ]
  },
  {
   "cell_type": "code",
   "execution_count": 1,
   "metadata": {},
   "outputs": [
    {
     "name": "stdout",
     "output_type": "stream",
     "text": [
      "torch.Size([2, 3])\n"
     ]
    }
   ],
   "source": [
    "import torch\n",
    "x = torch.zeros((2,3))\n",
    "print(x.shape)\n"
   ]
  },
  {
   "cell_type": "code",
   "execution_count": 2,
   "metadata": {},
   "outputs": [
    {
     "name": "stdout",
     "output_type": "stream",
     "text": [
      "tensor([1, 2, 3, 4, 5, 6, 7, 8])\n",
      "tensor([ 9, 10, 11, 12, 13, 14, 15, 16])\n",
      "tensor([17, 18, 19, 20, 21, 22, 23, 24])\n"
     ]
    }
   ],
   "source": [
    "X = torch.arange(1,25).reshape(3,8)\n",
    "for t  in X:\n",
    "    print(t)"
   ]
  },
  {
   "cell_type": "code",
   "execution_count": 16,
   "metadata": {},
   "outputs": [
    {
     "ename": "TypeError",
     "evalue": "matmul() takes 2 positional arguments but 3 were given",
     "output_type": "error",
     "traceback": [
      "\u001b[1;31m---------------------------------------------------------------------------\u001b[0m",
      "\u001b[1;31mTypeError\u001b[0m                                 Traceback (most recent call last)",
      "Cell \u001b[1;32mIn[16], line 4\u001b[0m\n\u001b[0;32m      2\u001b[0m Y \u001b[39m=\u001b[39m torch\u001b[39m.\u001b[39mrand(\u001b[39m2\u001b[39m,\u001b[39m3\u001b[39m)\n\u001b[0;32m      3\u001b[0m Z \u001b[39m=\u001b[39m torch\u001b[39m.\u001b[39mrand(\u001b[39m4\u001b[39m,\u001b[39m5\u001b[39m)\n\u001b[1;32m----> 4\u001b[0m out \u001b[39m=\u001b[39m torch\u001b[39m.\u001b[39;49mmatmul(X,Y,Z)\n",
      "\u001b[1;31mTypeError\u001b[0m: matmul() takes 2 positional arguments but 3 were given"
     ]
    }
   ],
   "source": [
    "X = torch.arange(1,121).reshape(2,3,4,5)\n",
    "Y = torch.rand(2,3)\n",
    "Z = torch.rand(4,5)\n",
    "out = torch.matmul(X,Y,Z)"
   ]
  },
  {
   "attachments": {},
   "cell_type": "markdown",
   "metadata": {},
   "source": []
  },
  {
   "attachments": {},
   "cell_type": "markdown",
   "metadata": {},
   "source": [
    "$||A||F = √(ΣΣ |a_ij|^2)$"
   ]
  }
 ],
 "metadata": {
  "kernelspec": {
   "display_name": "base",
   "language": "python",
   "name": "python3"
  },
  "language_info": {
   "codemirror_mode": {
    "name": "ipython",
    "version": 3
   },
   "file_extension": ".py",
   "mimetype": "text/x-python",
   "name": "python",
   "nbconvert_exporter": "python",
   "pygments_lexer": "ipython3",
   "version": "3.10.9"
  },
  "orig_nbformat": 4
 },
 "nbformat": 4,
 "nbformat_minor": 2
}
