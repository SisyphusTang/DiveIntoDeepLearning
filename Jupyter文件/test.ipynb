{
 "cells": [
  {
   "cell_type": "code",
   "execution_count": 2,
   "metadata": {},
   "outputs": [
    {
     "name": "stdout",
     "output_type": "stream",
     "text": [
      "NumPy CPU 矩阵乘法耗时：4.253963 秒\n",
      "PyTorch GPU 矩阵乘法耗时：0.011390 秒\n"
     ]
    }
   ],
   "source": [
    "import time\n",
    "import numpy as np\n",
    "import torch\n",
    "import os\n",
    "os.environ [\"KMP_DUPLICATE_LIB_OK\"] =\"TRUE\"\n",
    "# 定义矩阵的大小\n",
    "matrix_size = (10000, 10000)\n",
    "\n",
    "# 生成随机矩阵\n",
    "np_matrix1 = np.random.rand(*matrix_size)\n",
    "np_matrix2 = np.random.rand(*matrix_size)\n",
    "\n",
    "# NumPy CPU矩阵乘法\n",
    "start_time = time.time()\n",
    "np_result = np.dot(np_matrix1, np_matrix2)\n",
    "end_time = time.time()\n",
    "cpu_time = end_time - start_time\n",
    "\n",
    "# 将NumPy矩阵转换为PyTorch张量，并将其移动到GPU上（如果可用）\n",
    "torch_matrix1 = torch.tensor(np_matrix1)\n",
    "torch_matrix2 = torch.tensor(np_matrix2)\n",
    "device = torch.device(\"cuda:0\" if torch.cuda.is_available() else \"cpu\")\n",
    "torch_matrix1 = torch_matrix1.to(device)\n",
    "torch_matrix2 = torch_matrix2.to(device)\n",
    "\n",
    "# PyTorch GPU矩阵乘法\n",
    "start_time = time.time()\n",
    "torch_result = torch.mm(torch_matrix1, torch_matrix2)\n",
    "end_time = time.time()\n",
    "gpu_time = end_time - start_time\n",
    "\n",
    "# 输出结果\n",
    "print(f\"NumPy CPU 矩阵乘法耗时：{cpu_time:.6f} 秒\")\n",
    "print(f\"PyTorch GPU 矩阵乘法耗时：{gpu_time:.6f} 秒\")\n"
   ]
  },
  {
   "cell_type": "code",
   "execution_count": 16,
   "metadata": {},
   "outputs": [
    {
     "data": {
      "text/html": [
       "<div>\n",
       "<style scoped>\n",
       "    .dataframe tbody tr th:only-of-type {\n",
       "        vertical-align: middle;\n",
       "    }\n",
       "\n",
       "    .dataframe tbody tr th {\n",
       "        vertical-align: top;\n",
       "    }\n",
       "\n",
       "    .dataframe thead th {\n",
       "        text-align: right;\n",
       "    }\n",
       "</style>\n",
       "<table border=\"1\" class=\"dataframe\">\n",
       "  <thead>\n",
       "    <tr style=\"text-align: right;\">\n",
       "      <th></th>\n",
       "      <th>Age</th>\n",
       "      <th>Salary</th>\n",
       "    </tr>\n",
       "  </thead>\n",
       "  <tbody>\n",
       "    <tr>\n",
       "      <th>0</th>\n",
       "      <td>25.0</td>\n",
       "      <td>1</td>\n",
       "    </tr>\n",
       "    <tr>\n",
       "      <th>1</th>\n",
       "      <td>0.0</td>\n",
       "      <td>2</td>\n",
       "    </tr>\n",
       "    <tr>\n",
       "      <th>2</th>\n",
       "      <td>35.0</td>\n",
       "      <td>3</td>\n",
       "    </tr>\n",
       "  </tbody>\n",
       "</table>\n",
       "</div>"
      ],
      "text/plain": [
       "    Age  Salary\n",
       "0  25.0       1\n",
       "1   0.0       2\n",
       "2  35.0       3"
      ]
     },
     "execution_count": 16,
     "metadata": {},
     "output_type": "execute_result"
    }
   ],
   "source": [
    "# data = {\n",
    "#     'Name': ['Alice', 'Bob', 'Charlie'],\n",
    "#     'Age': [25, None, 35],\n",
    "#     'Salary': [1, 2, 3]\n",
    "# }\n",
    "\n",
    "# df = pd.DataFrame(data)\n",
    "\n",
    "# x = df.dtypes[df.dtypes != 'object'].index\n",
    "\n",
    "# df[x] =  df[x].fillna(0)\n",
    "# df[x]\n",
    "# df[x].fillna(0)\n",
    "# df\n",
    "\n",
    "\n",
    "test_list = ['a','b','c']\n",
    "a = 1 \n",
    "test_list[0] \n",
    "\n",
    "\n"
   ]
  },
  {
   "cell_type": "code",
   "execution_count": null,
   "metadata": {},
   "outputs": [],
   "source": []
  }
 ],
 "metadata": {
  "kernelspec": {
   "display_name": "base",
   "language": "python",
   "name": "python3"
  },
  "language_info": {
   "codemirror_mode": {
    "name": "ipython",
    "version": 3
   },
   "file_extension": ".py",
   "mimetype": "text/x-python",
   "name": "python",
   "nbconvert_exporter": "python",
   "pygments_lexer": "ipython3",
   "version": "3.10.9"
  },
  "orig_nbformat": 4
 },
 "nbformat": 4,
 "nbformat_minor": 2
}
