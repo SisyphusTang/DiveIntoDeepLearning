{
 "cells": [
  {
   "cell_type": "markdown",
   "id": "4289cf06",
   "metadata": {},
   "source": [
    "# 线性代数"
   ]
  },
  {
   "cell_type": "code",
   "execution_count": 3,
   "id": "dd935e27",
   "metadata": {},
   "outputs": [
    {
     "data": {
      "text/plain": [
       "tensor([[ 0,  1,  2,  3],\n",
       "        [ 4,  5,  6,  7],\n",
       "        [ 8,  9, 10, 11],\n",
       "        [12, 13, 14, 15],\n",
       "        [16, 17, 18, 19]])"
      ]
     },
     "execution_count": 3,
     "metadata": {},
     "output_type": "execute_result"
    }
   ],
   "source": [
    "import torch\n",
    "A = torch.arange(20).reshape(5,4)\n",
    "A"
   ]
  },
  {
   "cell_type": "code",
   "execution_count": 3,
   "id": "73d90487",
   "metadata": {},
   "outputs": [
    {
     "data": {
      "text/plain": [
       "tensor([[ 0,  4,  8, 12, 16],\n",
       "        [ 1,  5,  9, 13, 17],\n",
       "        [ 2,  6, 10, 14, 18],\n",
       "        [ 3,  7, 11, 15, 19]])"
      ]
     },
     "execution_count": 3,
     "metadata": {},
     "output_type": "execute_result"
    }
   ],
   "source": [
    "B = A.T\n",
    "B"
   ]
  },
  {
   "cell_type": "markdown",
   "id": "cbca4d3b",
   "metadata": {},
   "source": [
    "对称矩阵（symmetric matrix) A = A^^T"
   ]
  },
  {
   "cell_type": "code",
   "execution_count": 4,
   "id": "d57140c2",
   "metadata": {},
   "outputs": [
    {
     "data": {
      "text/plain": [
       "tensor([[1, 2, 3],\n",
       "        [2, 0, 4],\n",
       "        [3, 4, 5]])"
      ]
     },
     "execution_count": 4,
     "metadata": {},
     "output_type": "execute_result"
    }
   ],
   "source": [
    "B = torch.tensor([[1,2,3],[2,0,4],[3,4,5]])\n",
    "B"
   ]
  },
  {
   "cell_type": "code",
   "execution_count": 5,
   "id": "80c0366d",
   "metadata": {},
   "outputs": [
    {
     "data": {
      "text/plain": [
       "tensor([[True, True, True],\n",
       "        [True, True, True],\n",
       "        [True, True, True]])"
      ]
     },
     "execution_count": 5,
     "metadata": {},
     "output_type": "execute_result"
    }
   ],
   "source": [
    "B == B.T"
   ]
  },
  {
   "cell_type": "code",
   "execution_count": 6,
   "id": "079fd725",
   "metadata": {},
   "outputs": [
    {
     "data": {
      "text/plain": [
       "tensor([[ 0,  1,  2,  3,  4,  5,  6,  7],\n",
       "        [ 8,  9, 10, 11, 12, 13, 14, 15],\n",
       "        [16, 17, 18, 19, 20, 21, 22, 23]])"
      ]
     },
     "execution_count": 6,
     "metadata": {},
     "output_type": "execute_result"
    }
   ],
   "source": [
    "t1 = torch.arange(24).reshape(3,8)\n",
    "t1"
   ]
  },
  {
   "cell_type": "code",
   "execution_count": 7,
   "id": "cc64bf1c",
   "metadata": {},
   "outputs": [
    {
     "name": "stdout",
     "output_type": "stream",
     "text": [
      "tensor([1, 2, 3])\n"
     ]
    }
   ],
   "source": [
    "print(B[0])"
   ]
  },
  {
   "cell_type": "code",
   "execution_count": 11,
   "id": "6993274e",
   "metadata": {},
   "outputs": [
    {
     "data": {
      "text/plain": [
       "tensor([[[ 0,  1,  2,  3],\n",
       "         [ 4,  5,  6,  7],\n",
       "         [ 8,  9, 10, 11]],\n",
       "\n",
       "        [[12, 13, 14, 15],\n",
       "         [16, 17, 18, 19],\n",
       "         [20, 21, 22, 23]]])"
      ]
     },
     "execution_count": 11,
     "metadata": {},
     "output_type": "execute_result"
    }
   ],
   "source": [
    "t2 = torch.arange(24).reshape(2,3,4)\n",
    "t2"
   ]
  },
  {
   "cell_type": "code",
   "execution_count": 22,
   "id": "2ac6aaed",
   "metadata": {},
   "outputs": [
    {
     "name": "stdout",
     "output_type": "stream",
     "text": [
      "tensor(0) tensor(4) tensor(8)\n"
     ]
    }
   ],
   "source": [
    "print(t2[0][0][0],t2[0][1][0],t2[0][2][0])"
   ]
  },
  {
   "cell_type": "markdown",
   "id": "89131997",
   "metadata": {},
   "source": [
    "python三层数组可以作如下理解：\n",
    "https://blog.csdn.net/WalkerTC/article/details/131736504"
   ]
  },
  {
   "cell_type": "code",
   "execution_count": 25,
   "id": "b880a296",
   "metadata": {
    "scrolled": true
   },
   "outputs": [
    {
     "data": {
      "text/plain": [
       "tensor([[[1, 1, 1, 1],\n",
       "         [1, 1, 1, 1],\n",
       "         [1, 1, 1, 1]],\n",
       "\n",
       "        [[1, 1, 1, 1],\n",
       "         [1, 1, 1, 1],\n",
       "         [1, 1, 1, 1]]])"
      ]
     },
     "execution_count": 25,
     "metadata": {},
     "output_type": "execute_result"
    }
   ],
   "source": [
    "tmp = torch.ones((2,3,4),dtype=int)\n",
    "tmp"
   ]
  },
  {
   "cell_type": "markdown",
   "id": "1927ca34",
   "metadata": {},
   "source": [
    "维度求和sum函数"
   ]
  },
  {
   "cell_type": "code",
   "execution_count": 30,
   "id": "9fffe680",
   "metadata": {},
   "outputs": [
    {
     "name": "stdout",
     "output_type": "stream",
     "text": [
      "tensor([[2, 2, 2, 2],\n",
      "        [2, 2, 2, 2],\n",
      "        [2, 2, 2, 2]])\n",
      "tensor([[3, 3, 3, 3],\n",
      "        [3, 3, 3, 3]])\n",
      "tensor([[4, 4, 4],\n",
      "        [4, 4, 4]])\n"
     ]
    }
   ],
   "source": [
    "t = tmp.sum(axis=0)   # 纵轴求和\n",
    "print(t)\n",
    "t = tmp.sum(axis = 1) # 第二个维度求和 每一行求和\n",
    "print(t)\n",
    "t = tmp.sum(axis = 2) # 第三个维度求和 每一个面的每一行求和\n",
    "print(t)"
   ]
  },
  {
   "cell_type": "markdown",
   "id": "32edf0c4",
   "metadata": {},
   "source": [
    "## 按照特定轴求和"
   ]
  },
  {
   "cell_type": "markdown",
   "id": "28beb3df",
   "metadata": {},
   "source": [
    "上述按照三维空间对于轴求和理解遇到多维比较难想象，对于按轴求和，按照哪一轴其实就是\n",
    "消去某一轴，保留剩下轴的结果，如上述图按axis = 0求和，求和之后的数组就是(3,4)shape的，\n",
    "按照axis = 1的，就是（2，3）shape形状的，同理，axis = 2就是（2，3）shape的结果"
   ]
  },
  {
   "cell_type": "markdown",
   "id": "0e6b93f6",
   "metadata": {},
   "source": [
    "![jupyter](https://cdn.staticaly.com/gh/SisyphusTang/Picture-bed@master/20230715/py三维数组.708d7ri0m1g0.webp)"
   ]
  },
  {
   "cell_type": "markdown",
   "id": "3eeaf4fc",
   "metadata": {},
   "source": [
    "学习其它算法或者框架都没关系，主要是学会。\n",
    "date:2023-07-15"
   ]
  }
 ],
 "metadata": {
  "kernelspec": {
   "display_name": "Python 3 (ipykernel)",
   "language": "python",
   "name": "python3"
  },
  "language_info": {
   "codemirror_mode": {
    "name": "ipython",
    "version": 3
   },
   "file_extension": ".py",
   "mimetype": "text/x-python",
   "name": "python",
   "nbconvert_exporter": "python",
   "pygments_lexer": "ipython3",
   "version": "3.10.9"
  }
 },
 "nbformat": 4,
 "nbformat_minor": 5
}
