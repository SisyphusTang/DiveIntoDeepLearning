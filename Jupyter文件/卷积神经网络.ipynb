{
 "cells": [
  {
   "attachments": {},
   "cell_type": "markdown",
   "metadata": {},
   "source": [
    "LeNet，是最早发布的卷积神经网络之一，因其在计算机视觉任务中的高效性能而受到广泛关注\n",
    "\n",
    "![LeNet](https://cdn.staticaly.com/gh/SisyphusTang/Picture-bed@master/20230812/LeNet.47fvbnpozjy0.webp)\n",
    "\n"
   ]
  }
 ],
 "metadata": {
  "language_info": {
   "name": "python"
  },
  "orig_nbformat": 4
 },
 "nbformat": 4,
 "nbformat_minor": 2
}
